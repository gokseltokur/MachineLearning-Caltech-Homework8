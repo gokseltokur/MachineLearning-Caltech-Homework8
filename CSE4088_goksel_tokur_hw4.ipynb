{
 "cells": [
  {
   "cell_type": "markdown",
   "metadata": {},
   "source": [
    "### CSE4088 Introduction to Machine Learning - Homework 4"
   ]
  },
  {
   "cell_type": "markdown",
   "metadata": {},
   "source": [
    "### Göksel Tokur - 150116049"
   ]
  },
  {
   "cell_type": "markdown",
   "metadata": {},
   "source": [
    "### Polynomial Kernels"
   ]
  },
  {
   "cell_type": "code",
   "execution_count": 16,
   "metadata": {},
   "outputs": [],
   "source": [
    "import pandas as pd\n",
    "import numpy as np\n",
    "from sklearn.svm import SVC"
   ]
  },
  {
   "cell_type": "code",
   "execution_count": 17,
   "metadata": {},
   "outputs": [
    {
     "name": "stdout",
     "output_type": "stream",
     "text": [
      "      digit  intensity  symmetry\n",
      "7286    3.0   0.296178 -2.558250\n",
      "7287    3.0   0.252795 -3.110500\n",
      "7288    3.0   0.393705 -2.921187\n",
      "7289    0.0   0.597590 -2.258062\n",
      "7290    1.0   0.276221 -0.916250\n",
      "      digit  intensity  symmetry\n",
      "2002    3.0   0.237842 -4.052688\n",
      "2003    9.0   0.265125 -3.630500\n",
      "2004    4.0   0.308857 -5.365188\n",
      "2005    0.0   0.509971 -2.010000\n",
      "2006    1.0   0.188977 -0.781312\n",
      "Shape of the train dataset : (7291, 3)\n",
      "Shape of the test dataset : (2007, 3)\n"
     ]
    }
   ],
   "source": [
    "train_dataset = pd.read_table(\"http://www.amlbook.com/data/zip/features.train\", header=None, names=['digit', 'intensity', 'symmetry'], sep=r'\\s+')\n",
    "test_dataset = pd.read_table(\"http://www.amlbook.com/data/zip/features.test\", header=None, names=['digit', 'intensity', 'symmetry'], sep=r'\\s+')\n",
    "\n",
    "\n",
    "print(train_dataset.tail(5))\n",
    "\n",
    "print(test_dataset.tail(5))\n",
    "\n",
    "N_train = train_dataset.shape\n",
    "N_test = test_dataset.shape\n",
    "\n",
    "print(\"Shape of the train dataset : {}\\nShape of the test dataset : {}\".format(N_train, N_test))"
   ]
  },
  {
   "cell_type": "code",
   "execution_count": 39,
   "metadata": {},
   "outputs": [
    {
     "name": "stdout",
     "output_type": "stream",
     "text": [
      "0 versus all E_in : 0.16376\tNumber of support vectors : 2391\n",
      "1 versus all E_in : 0.01577\tNumber of support vectors : 966\n",
      "2 versus all E_in : 0.10026\tNumber of support vectors : 1525\n",
      "3 versus all E_in : 0.09025\tNumber of support vectors : 1403\n",
      "4 versus all E_in : 0.08943\tNumber of support vectors : 1354\n",
      "5 versus all E_in : 0.07626\tNumber of support vectors : 1188\n",
      "6 versus all E_in : 0.09107\tNumber of support vectors : 1400\n",
      "7 versus all E_in : 0.08847\tNumber of support vectors : 1328\n",
      "8 versus all E_in : 0.07434\tNumber of support vectors : 1147\n",
      "9 versus all E_in : 0.08833\tNumber of support vectors : 1366\n"
     ]
    }
   ],
   "source": [
    "def one_vs_all(C, Q):\n",
    "    E_in_array = []\n",
    "    number_of_support_vector_array = []\n",
    "    for digit in range(10):\n",
    "        X = train[['intensity', 'symmetry']]\n",
    "        y = train['digit'] == digit\n",
    "        svm = SVC(C=C, kernel='poly', degree=Q, coef0=1)\n",
    "        svm.fit(X, y)\n",
    "        prediction = svm.predict(X)\n",
    "        E_in = np.mean(y != prediction)\n",
    "        number_of_support_vector = sum(svm.n_support_)\n",
    "        E_in_array.append(E_in)\n",
    "        number_of_support_vector_array.append(number_of_support_vector)\n",
    "        print(\"%d versus all E_in : %.5f\\tNumber of support vectors : %d\" % (digit, E_in, number_of_support_vector))\n",
    "    return E_in_array, number_of_support_vector_array\n",
    "        \n",
    "        \n",
    "        \n",
    "C = 0.01\n",
    "Q = 2 #degree\n",
    "E_in, number_of_support_vector = one_vs_all(C=C, Q=Q)\n",
    "dt = {'digit':[0, 1, 2, 3, 4, 5, 6, 7, 8, 9], 'E_in':E_in, 'Number Of Support Vector': number_of_support_vector}\n",
    "dataframe = pd.DataFrame(dt)\n",
    "        \n",
    "    "
   ]
  },
  {
   "cell_type": "markdown",
   "metadata": {},
   "source": [
    "### Question 2"
   ]
  },
  {
   "cell_type": "code",
   "execution_count": 40,
   "metadata": {},
   "outputs": [
    {
     "data": {
      "text/plain": [
       "digit                          0.000000\n",
       "E_in                           0.163764\n",
       "Number Of Support Vector    2391.000000\n",
       "Name: 0, dtype: float64"
      ]
     },
     "execution_count": 40,
     "metadata": {},
     "output_type": "execute_result"
    }
   ],
   "source": [
    "dataframe.loc[dataframe['E_in'].idxmax()]"
   ]
  },
  {
   "cell_type": "markdown",
   "metadata": {},
   "source": [
    "As seen above, 0 versus all has the highest value (0.163764) between them."
   ]
  },
  {
   "cell_type": "markdown",
   "metadata": {},
   "source": [
    "Answer of the Question 2: [a] 0 versus all"
   ]
  },
  {
   "cell_type": "markdown",
   "metadata": {},
   "source": [
    "### Question 3"
   ]
  },
  {
   "cell_type": "code",
   "execution_count": 42,
   "metadata": {},
   "outputs": [
    {
     "data": {
      "text/plain": [
       "digit                         1.000000\n",
       "E_in                          0.015773\n",
       "Number Of Support Vector    966.000000\n",
       "Name: 1, dtype: float64"
      ]
     },
     "execution_count": 42,
     "metadata": {},
     "output_type": "execute_result"
    }
   ],
   "source": [
    "dataframe.loc[dataframe['E_in'].idxmin()]"
   ]
  },
  {
   "cell_type": "markdown",
   "metadata": {},
   "source": [
    "As seen above, 1 versus all has the lowest value (0.01577) between them."
   ]
  },
  {
   "cell_type": "markdown",
   "metadata": {},
   "source": [
    "Answer of the Question 3: [a] 1 versus all"
   ]
  },
  {
   "cell_type": "markdown",
   "metadata": {},
   "source": [
    "### Question 4"
   ]
  },
  {
   "cell_type": "code",
   "execution_count": 45,
   "metadata": {},
   "outputs": [
    {
     "data": {
      "text/plain": [
       "1425.0"
      ]
     },
     "execution_count": 45,
     "metadata": {},
     "output_type": "execute_result"
    }
   ],
   "source": [
    " abs(dataframe.loc[dataframe['E_in'].idxmax()]['Number Of Support Vector'] - dataframe.loc[dataframe['E_in'].idxmin()]['Number Of Support Vector'])"
   ]
  },
  {
   "cell_type": "markdown",
   "metadata": {},
   "source": [
    "Answer of the Question 4: [c] 1800"
   ]
  },
  {
   "cell_type": "markdown",
   "metadata": {},
   "source": [
    "### Question 5"
   ]
  },
  {
   "cell_type": "code",
   "execution_count": null,
   "metadata": {},
   "outputs": [],
   "source": []
  }
 ],
 "metadata": {
  "kernelspec": {
   "display_name": "Python 3",
   "language": "python",
   "name": "python3"
  },
  "language_info": {
   "codemirror_mode": {
    "name": "ipython",
    "version": 3
   },
   "file_extension": ".py",
   "mimetype": "text/x-python",
   "name": "python",
   "nbconvert_exporter": "python",
   "pygments_lexer": "ipython3",
   "version": "3.9.0"
  }
 },
 "nbformat": 4,
 "nbformat_minor": 4
}
